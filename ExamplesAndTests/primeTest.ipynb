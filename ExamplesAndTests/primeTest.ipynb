{
 "cells": [
  {
   "cell_type": "markdown",
   "id": "6b9ead9f",
   "metadata": {},
   "source": [
    "**Testing our own written prime function**"
   ]
  },
  {
   "cell_type": "markdown",
   "id": "8879f292",
   "metadata": {},
   "source": [
    "We import sqrt directly from the corresponding path."
   ]
  },
  {
   "cell_type": "code",
   "execution_count": 1,
   "id": "087cbcb9",
   "metadata": {},
   "outputs": [
    {
     "name": "stdout",
     "output_type": "stream",
     "text": [
      "/home/florian/Projects/Own_Library/Own_Library/packageFlo\n"
     ]
    }
   ],
   "source": [
    "cd ../packageFlo"
   ]
  },
  {
   "cell_type": "code",
   "execution_count": 2,
   "id": "4e2fd50c",
   "metadata": {},
   "outputs": [],
   "source": [
    "from prime import prime"
   ]
  },
  {
   "cell_type": "markdown",
   "id": "8d79eefc",
   "metadata": {},
   "source": [
    "import sympy.prime for comparison"
   ]
  },
  {
   "cell_type": "code",
   "execution_count": 3,
   "id": "89400e7b",
   "metadata": {},
   "outputs": [],
   "source": [
    "import sympy"
   ]
  },
  {
   "cell_type": "markdown",
   "id": "6cb000a6",
   "metadata": {},
   "source": [
    "import time library for measuring runtime"
   ]
  },
  {
   "cell_type": "code",
   "execution_count": 4,
   "id": "0d088411",
   "metadata": {},
   "outputs": [],
   "source": [
    "import time"
   ]
  },
  {
   "cell_type": "markdown",
   "id": "6d4eb086",
   "metadata": {},
   "source": [
    "check the first 20 numbers and 0"
   ]
  },
  {
   "cell_type": "code",
   "execution_count": 5,
   "id": "d95a80ab",
   "metadata": {},
   "outputs": [
    {
     "name": "stdout",
     "output_type": "stream",
     "text": [
      "0 False\n",
      "1 False\n",
      "2 True\n",
      "3 True\n",
      "4 False\n",
      "5 True\n",
      "6 False\n",
      "7 True\n",
      "8 False\n",
      "9 False\n",
      "10 False\n",
      "11 True\n",
      "12 False\n",
      "13 True\n",
      "14 False\n",
      "15 False\n",
      "16 False\n",
      "17 True\n",
      "18 False\n",
      "19 True\n",
      "20 False\n"
     ]
    }
   ],
   "source": [
    "for i in range(21):\n",
    "    print(i, prime(i))"
   ]
  },
  {
   "cell_type": "markdown",
   "id": "695bb6f2",
   "metadata": {},
   "source": [
    "some false inputs"
   ]
  },
  {
   "cell_type": "code",
   "execution_count": 6,
   "id": "a6627b07",
   "metadata": {},
   "outputs": [
    {
     "name": "stdout",
     "output_type": "stream",
     "text": [
      "TypeError: prime() only takes int inputs\n"
     ]
    },
    {
     "ename": "NameError",
     "evalue": "name 'exit' is not defined",
     "output_type": "error",
     "traceback": [
      "\u001b[0;31m---------------------------------------------------------------------------\u001b[0m",
      "\u001b[0;31mTypeError\u001b[0m                                 Traceback (most recent call last)",
      "\u001b[0;32m~/Projects/Own_Library/Own_Library/packageFlo/prime.py\u001b[0m in \u001b[0;36mprime\u001b[0;34m(number)\u001b[0m\n\u001b[1;32m     22\u001b[0m         \u001b[0;32mif\u001b[0m \u001b[0misinstance\u001b[0m\u001b[0;34m(\u001b[0m\u001b[0mnumber\u001b[0m\u001b[0;34m,\u001b[0m \u001b[0mint\u001b[0m\u001b[0;34m)\u001b[0m\u001b[0;34m==\u001b[0m\u001b[0;36m0\u001b[0m\u001b[0;34m:\u001b[0m\u001b[0;34m\u001b[0m\u001b[0;34m\u001b[0m\u001b[0m\n\u001b[0;32m---> 23\u001b[0;31m             \u001b[0;32mraise\u001b[0m \u001b[0mTypeError\u001b[0m\u001b[0;34m(\u001b[0m\u001b[0;34m\"TypeError: prime() only takes int inputs\"\u001b[0m\u001b[0;34m)\u001b[0m\u001b[0;34m\u001b[0m\u001b[0;34m\u001b[0m\u001b[0m\n\u001b[0m\u001b[1;32m     24\u001b[0m         \u001b[0;32melif\u001b[0m \u001b[0mnumber\u001b[0m \u001b[0;34m<\u001b[0m \u001b[0;36m0\u001b[0m\u001b[0;34m:\u001b[0m\u001b[0;34m\u001b[0m\u001b[0;34m\u001b[0m\u001b[0m\n",
      "\u001b[0;31mTypeError\u001b[0m: TypeError: prime() only takes int inputs",
      "\nDuring handling of the above exception, another exception occurred:\n",
      "\u001b[0;31mNameError\u001b[0m                                 Traceback (most recent call last)",
      "\u001b[0;32m/tmp/ipykernel_8384/2800521735.py\u001b[0m in \u001b[0;36m<module>\u001b[0;34m\u001b[0m\n\u001b[0;32m----> 1\u001b[0;31m \u001b[0mprime\u001b[0m\u001b[0;34m(\u001b[0m\u001b[0;36m1.4\u001b[0m\u001b[0;34m)\u001b[0m\u001b[0;34m\u001b[0m\u001b[0;34m\u001b[0m\u001b[0m\n\u001b[0m",
      "\u001b[0;32m~/Projects/Own_Library/Own_Library/packageFlo/prime.py\u001b[0m in \u001b[0;36mprime\u001b[0;34m(number)\u001b[0m\n\u001b[1;32m     38\u001b[0m     \u001b[0;32mexcept\u001b[0m \u001b[0mTypeError\u001b[0m \u001b[0;32mas\u001b[0m \u001b[0mte\u001b[0m\u001b[0;34m:\u001b[0m \u001b[0;31m#this is executed for all TypeErrors in the try block above\u001b[0m\u001b[0;34m\u001b[0m\u001b[0;34m\u001b[0m\u001b[0m\n\u001b[1;32m     39\u001b[0m         \u001b[0mprint\u001b[0m\u001b[0;34m(\u001b[0m\u001b[0mte\u001b[0m\u001b[0;34m)\u001b[0m\u001b[0;34m\u001b[0m\u001b[0;34m\u001b[0m\u001b[0m\n\u001b[0;32m---> 40\u001b[0;31m         \u001b[0mexit\u001b[0m\u001b[0;34m(\u001b[0m\u001b[0;34m)\u001b[0m\u001b[0;34m\u001b[0m\u001b[0;34m\u001b[0m\u001b[0m\n\u001b[0m\u001b[1;32m     41\u001b[0m     \u001b[0;32mexcept\u001b[0m \u001b[0mValueError\u001b[0m \u001b[0;32mas\u001b[0m \u001b[0mve\u001b[0m\u001b[0;34m:\u001b[0m \u001b[0;31m#this is executed for all ValueErrors in the try block above\u001b[0m\u001b[0;34m\u001b[0m\u001b[0;34m\u001b[0m\u001b[0m\n\u001b[1;32m     42\u001b[0m         \u001b[0mprint\u001b[0m\u001b[0;34m(\u001b[0m\u001b[0mve\u001b[0m\u001b[0;34m)\u001b[0m \u001b[0;31m#we print the same message as raised in the ValueError above\u001b[0m\u001b[0;34m\u001b[0m\u001b[0;34m\u001b[0m\u001b[0m\n",
      "\u001b[0;31mNameError\u001b[0m: name 'exit' is not defined"
     ]
    }
   ],
   "source": [
    "prime(1.4)"
   ]
  },
  {
   "cell_type": "code",
   "execution_count": 7,
   "id": "95cfbb4f",
   "metadata": {},
   "outputs": [
    {
     "name": "stdout",
     "output_type": "stream",
     "text": [
      "TypeError: prime() only takes int inputs\n"
     ]
    },
    {
     "ename": "NameError",
     "evalue": "name 'exit' is not defined",
     "output_type": "error",
     "traceback": [
      "\u001b[0;31m---------------------------------------------------------------------------\u001b[0m",
      "\u001b[0;31mTypeError\u001b[0m                                 Traceback (most recent call last)",
      "\u001b[0;32m~/Projects/Own_Library/Own_Library/packageFlo/prime.py\u001b[0m in \u001b[0;36mprime\u001b[0;34m(number)\u001b[0m\n\u001b[1;32m     22\u001b[0m         \u001b[0;32mif\u001b[0m \u001b[0misinstance\u001b[0m\u001b[0;34m(\u001b[0m\u001b[0mnumber\u001b[0m\u001b[0;34m,\u001b[0m \u001b[0mint\u001b[0m\u001b[0;34m)\u001b[0m\u001b[0;34m==\u001b[0m\u001b[0;36m0\u001b[0m\u001b[0;34m:\u001b[0m\u001b[0;34m\u001b[0m\u001b[0;34m\u001b[0m\u001b[0m\n\u001b[0;32m---> 23\u001b[0;31m             \u001b[0;32mraise\u001b[0m \u001b[0mTypeError\u001b[0m\u001b[0;34m(\u001b[0m\u001b[0;34m\"TypeError: prime() only takes int inputs\"\u001b[0m\u001b[0;34m)\u001b[0m\u001b[0;34m\u001b[0m\u001b[0;34m\u001b[0m\u001b[0m\n\u001b[0m\u001b[1;32m     24\u001b[0m         \u001b[0;32melif\u001b[0m \u001b[0mnumber\u001b[0m \u001b[0;34m<\u001b[0m \u001b[0;36m0\u001b[0m\u001b[0;34m:\u001b[0m\u001b[0;34m\u001b[0m\u001b[0;34m\u001b[0m\u001b[0m\n",
      "\u001b[0;31mTypeError\u001b[0m: TypeError: prime() only takes int inputs",
      "\nDuring handling of the above exception, another exception occurred:\n",
      "\u001b[0;31mNameError\u001b[0m                                 Traceback (most recent call last)",
      "\u001b[0;32m/tmp/ipykernel_8384/755317163.py\u001b[0m in \u001b[0;36m<module>\u001b[0;34m\u001b[0m\n\u001b[0;32m----> 1\u001b[0;31m \u001b[0mprime\u001b[0m\u001b[0;34m(\u001b[0m\u001b[0;36m2j\u001b[0m\u001b[0;34m)\u001b[0m\u001b[0;34m\u001b[0m\u001b[0;34m\u001b[0m\u001b[0m\n\u001b[0m",
      "\u001b[0;32m~/Projects/Own_Library/Own_Library/packageFlo/prime.py\u001b[0m in \u001b[0;36mprime\u001b[0;34m(number)\u001b[0m\n\u001b[1;32m     38\u001b[0m     \u001b[0;32mexcept\u001b[0m \u001b[0mTypeError\u001b[0m \u001b[0;32mas\u001b[0m \u001b[0mte\u001b[0m\u001b[0;34m:\u001b[0m \u001b[0;31m#this is executed for all TypeErrors in the try block above\u001b[0m\u001b[0;34m\u001b[0m\u001b[0;34m\u001b[0m\u001b[0m\n\u001b[1;32m     39\u001b[0m         \u001b[0mprint\u001b[0m\u001b[0;34m(\u001b[0m\u001b[0mte\u001b[0m\u001b[0;34m)\u001b[0m\u001b[0;34m\u001b[0m\u001b[0;34m\u001b[0m\u001b[0m\n\u001b[0;32m---> 40\u001b[0;31m         \u001b[0mexit\u001b[0m\u001b[0;34m(\u001b[0m\u001b[0;34m)\u001b[0m\u001b[0;34m\u001b[0m\u001b[0;34m\u001b[0m\u001b[0m\n\u001b[0m\u001b[1;32m     41\u001b[0m     \u001b[0;32mexcept\u001b[0m \u001b[0mValueError\u001b[0m \u001b[0;32mas\u001b[0m \u001b[0mve\u001b[0m\u001b[0;34m:\u001b[0m \u001b[0;31m#this is executed for all ValueErrors in the try block above\u001b[0m\u001b[0;34m\u001b[0m\u001b[0;34m\u001b[0m\u001b[0m\n\u001b[1;32m     42\u001b[0m         \u001b[0mprint\u001b[0m\u001b[0;34m(\u001b[0m\u001b[0mve\u001b[0m\u001b[0;34m)\u001b[0m \u001b[0;31m#we print the same message as raised in the ValueError above\u001b[0m\u001b[0;34m\u001b[0m\u001b[0;34m\u001b[0m\u001b[0m\n",
      "\u001b[0;31mNameError\u001b[0m: name 'exit' is not defined"
     ]
    }
   ],
   "source": [
    "prime(2j)"
   ]
  },
  {
   "cell_type": "code",
   "execution_count": 8,
   "id": "b0856a90",
   "metadata": {},
   "outputs": [
    {
     "name": "stdout",
     "output_type": "stream",
     "text": [
      "TypeError: prime() only takes int inputs\n"
     ]
    },
    {
     "ename": "NameError",
     "evalue": "name 'exit' is not defined",
     "output_type": "error",
     "traceback": [
      "\u001b[0;31m---------------------------------------------------------------------------\u001b[0m",
      "\u001b[0;31mTypeError\u001b[0m                                 Traceback (most recent call last)",
      "\u001b[0;32m~/Projects/Own_Library/Own_Library/packageFlo/prime.py\u001b[0m in \u001b[0;36mprime\u001b[0;34m(number)\u001b[0m\n\u001b[1;32m     22\u001b[0m         \u001b[0;32mif\u001b[0m \u001b[0misinstance\u001b[0m\u001b[0;34m(\u001b[0m\u001b[0mnumber\u001b[0m\u001b[0;34m,\u001b[0m \u001b[0mint\u001b[0m\u001b[0;34m)\u001b[0m\u001b[0;34m==\u001b[0m\u001b[0;36m0\u001b[0m\u001b[0;34m:\u001b[0m\u001b[0;34m\u001b[0m\u001b[0;34m\u001b[0m\u001b[0m\n\u001b[0;32m---> 23\u001b[0;31m             \u001b[0;32mraise\u001b[0m \u001b[0mTypeError\u001b[0m\u001b[0;34m(\u001b[0m\u001b[0;34m\"TypeError: prime() only takes int inputs\"\u001b[0m\u001b[0;34m)\u001b[0m\u001b[0;34m\u001b[0m\u001b[0;34m\u001b[0m\u001b[0m\n\u001b[0m\u001b[1;32m     24\u001b[0m         \u001b[0;32melif\u001b[0m \u001b[0mnumber\u001b[0m \u001b[0;34m<\u001b[0m \u001b[0;36m0\u001b[0m\u001b[0;34m:\u001b[0m\u001b[0;34m\u001b[0m\u001b[0;34m\u001b[0m\u001b[0m\n",
      "\u001b[0;31mTypeError\u001b[0m: TypeError: prime() only takes int inputs",
      "\nDuring handling of the above exception, another exception occurred:\n",
      "\u001b[0;31mNameError\u001b[0m                                 Traceback (most recent call last)",
      "\u001b[0;32m/tmp/ipykernel_8384/3898054793.py\u001b[0m in \u001b[0;36m<module>\u001b[0;34m\u001b[0m\n\u001b[0;32m----> 1\u001b[0;31m \u001b[0mprime\u001b[0m\u001b[0;34m(\u001b[0m\u001b[0;34m\"hello\"\u001b[0m\u001b[0;34m)\u001b[0m\u001b[0;34m\u001b[0m\u001b[0;34m\u001b[0m\u001b[0m\n\u001b[0m",
      "\u001b[0;32m~/Projects/Own_Library/Own_Library/packageFlo/prime.py\u001b[0m in \u001b[0;36mprime\u001b[0;34m(number)\u001b[0m\n\u001b[1;32m     38\u001b[0m     \u001b[0;32mexcept\u001b[0m \u001b[0mTypeError\u001b[0m \u001b[0;32mas\u001b[0m \u001b[0mte\u001b[0m\u001b[0;34m:\u001b[0m \u001b[0;31m#this is executed for all TypeErrors in the try block above\u001b[0m\u001b[0;34m\u001b[0m\u001b[0;34m\u001b[0m\u001b[0m\n\u001b[1;32m     39\u001b[0m         \u001b[0mprint\u001b[0m\u001b[0;34m(\u001b[0m\u001b[0mte\u001b[0m\u001b[0;34m)\u001b[0m\u001b[0;34m\u001b[0m\u001b[0;34m\u001b[0m\u001b[0m\n\u001b[0;32m---> 40\u001b[0;31m         \u001b[0mexit\u001b[0m\u001b[0;34m(\u001b[0m\u001b[0;34m)\u001b[0m\u001b[0;34m\u001b[0m\u001b[0;34m\u001b[0m\u001b[0m\n\u001b[0m\u001b[1;32m     41\u001b[0m     \u001b[0;32mexcept\u001b[0m \u001b[0mValueError\u001b[0m \u001b[0;32mas\u001b[0m \u001b[0mve\u001b[0m\u001b[0;34m:\u001b[0m \u001b[0;31m#this is executed for all ValueErrors in the try block above\u001b[0m\u001b[0;34m\u001b[0m\u001b[0;34m\u001b[0m\u001b[0m\n\u001b[1;32m     42\u001b[0m         \u001b[0mprint\u001b[0m\u001b[0;34m(\u001b[0m\u001b[0mve\u001b[0m\u001b[0;34m)\u001b[0m \u001b[0;31m#we print the same message as raised in the ValueError above\u001b[0m\u001b[0;34m\u001b[0m\u001b[0;34m\u001b[0m\u001b[0m\n",
      "\u001b[0;31mNameError\u001b[0m: name 'exit' is not defined"
     ]
    }
   ],
   "source": [
    "prime(\"hello\")"
   ]
  },
  {
   "cell_type": "markdown",
   "id": "80b1ba31",
   "metadata": {},
   "source": [
    "checking some large prime numbers"
   ]
  },
  {
   "cell_type": "code",
   "execution_count": 9,
   "id": "994a7e69",
   "metadata": {},
   "outputs": [
    {
     "data": {
      "text/plain": [
       "True"
      ]
     },
     "execution_count": 9,
     "metadata": {},
     "output_type": "execute_result"
    }
   ],
   "source": [
    "prime(42643801)"
   ]
  },
  {
   "cell_type": "code",
   "execution_count": 10,
   "id": "757cc49b",
   "metadata": {},
   "outputs": [
    {
     "data": {
      "text/plain": [
       "True"
      ]
     },
     "execution_count": 10,
     "metadata": {},
     "output_type": "execute_result"
    }
   ],
   "source": [
    "prime(63018038201)"
   ]
  },
  {
   "cell_type": "code",
   "execution_count": 11,
   "id": "7a8d1330",
   "metadata": {},
   "outputs": [
    {
     "data": {
      "text/plain": [
       "True"
      ]
     },
     "execution_count": 11,
     "metadata": {},
     "output_type": "execute_result"
    }
   ],
   "source": [
    "prime(80630964769)"
   ]
  },
  {
   "cell_type": "code",
   "execution_count": 12,
   "id": "0a2a6dea",
   "metadata": {},
   "outputs": [
    {
     "data": {
      "text/plain": [
       "True"
      ]
     },
     "execution_count": 12,
     "metadata": {},
     "output_type": "execute_result"
    }
   ],
   "source": [
    "prime(10963707205259)"
   ]
  },
  {
   "cell_type": "code",
   "execution_count": 13,
   "id": "265b2c06",
   "metadata": {},
   "outputs": [
    {
     "data": {
      "text/plain": [
       "True"
      ]
     },
     "execution_count": 13,
     "metadata": {},
     "output_type": "execute_result"
    }
   ],
   "source": [
    "prime(10657331232548839)"
   ]
  },
  {
   "cell_type": "code",
   "execution_count": 14,
   "id": "ba2ae2c3",
   "metadata": {},
   "outputs": [
    {
     "name": "stdout",
     "output_type": "stream",
     "text": [
      "True\n",
      "Runtime: 2.3186702728271484 seconds\n"
     ]
    }
   ],
   "source": [
    "st = time.time()\n",
    "\n",
    "print(prime(10657331232548839))\n",
    "\n",
    "et = time.time()\n",
    "\n",
    "print(\"Runtime:\", et-st, \"seconds\")"
   ]
  },
  {
   "cell_type": "markdown",
   "id": "458d858e",
   "metadata": {},
   "source": [
    "We see the sympy function is much faster"
   ]
  },
  {
   "cell_type": "code",
   "execution_count": 15,
   "id": "31065776",
   "metadata": {},
   "outputs": [
    {
     "name": "stdout",
     "output_type": "stream",
     "text": [
      "True\n",
      "Runtime: 0.0002961158752441406 seconds\n"
     ]
    }
   ],
   "source": [
    "st = time.time()\n",
    "\n",
    "print(sympy.isprime(10657331232548839))\n",
    "\n",
    "et = time.time()\n",
    "\n",
    "print(\"Runtime:\", et-st, \"seconds\")"
   ]
  },
  {
   "cell_type": "markdown",
   "id": "a7797da7",
   "metadata": {},
   "source": [
    "printing help functions"
   ]
  },
  {
   "cell_type": "code",
   "execution_count": 16,
   "id": "96eb19c9",
   "metadata": {},
   "outputs": [
    {
     "name": "stdout",
     "output_type": "stream",
     "text": [
      "Help on function prime in module prime:\n",
      "\n",
      "prime(number)\n",
      "    Tests if a number is prime.\n",
      "    \n",
      "    Parameters:\n",
      "    -----------\n",
      "    number: int >= 0\n",
      "        Number to test\n",
      "    \n",
      "    Returns:\n",
      "    --------\n",
      "    boolean\n",
      "        True if prime number, False if not.\n",
      "\n"
     ]
    }
   ],
   "source": [
    "help(prime)"
   ]
  },
  {
   "cell_type": "code",
   "execution_count": 17,
   "id": "6d1aec3e",
   "metadata": {},
   "outputs": [
    {
     "name": "stdout",
     "output_type": "stream",
     "text": [
      "Help on function isprime in module sympy.ntheory.primetest:\n",
      "\n",
      "isprime(n)\n",
      "    Test if n is a prime number (True) or not (False). For n < 2^64 the\n",
      "    answer is definitive; larger n values have a small probability of actually\n",
      "    being pseudoprimes.\n",
      "    \n",
      "    Negative numbers (e.g. -2) are not considered prime.\n",
      "    \n",
      "    The first step is looking for trivial factors, which if found enables\n",
      "    a quick return.  Next, if the sieve is large enough, use bisection search\n",
      "    on the sieve.  For small numbers, a set of deterministic Miller-Rabin\n",
      "    tests are performed with bases that are known to have no counterexamples\n",
      "    in their range.  Finally if the number is larger than 2^64, a strong\n",
      "    BPSW test is performed.  While this is a probable prime test and we\n",
      "    believe counterexamples exist, there are no known counterexamples.\n",
      "    \n",
      "    Examples\n",
      "    ========\n",
      "    \n",
      "    >>> from sympy.ntheory import isprime\n",
      "    >>> isprime(13)\n",
      "    True\n",
      "    >>> isprime(13.0)  # limited precision\n",
      "    False\n",
      "    >>> isprime(15)\n",
      "    False\n",
      "    \n",
      "    Notes\n",
      "    =====\n",
      "    \n",
      "    This routine is intended only for integer input, not numerical\n",
      "    expressions which may represent numbers. Floats are also\n",
      "    rejected as input because they represent numbers of limited\n",
      "    precision. While it is tempting to permit 7.0 to represent an\n",
      "    integer there are errors that may \"pass silently\" if this is\n",
      "    allowed:\n",
      "    \n",
      "    >>> from sympy import Float, S\n",
      "    >>> int(1e3) == 1e3 == 10**3\n",
      "    True\n",
      "    >>> int(1e23) == 1e23\n",
      "    True\n",
      "    >>> int(1e23) == 10**23\n",
      "    False\n",
      "    \n",
      "    >>> near_int = 1 + S(1)/10**19\n",
      "    >>> near_int == int(near_int)\n",
      "    False\n",
      "    >>> n = Float(near_int, 10)  # truncated by precision\n",
      "    >>> n == int(n)\n",
      "    True\n",
      "    >>> n = Float(near_int, 20)\n",
      "    >>> n == int(n)\n",
      "    False\n",
      "    \n",
      "    See Also\n",
      "    ========\n",
      "    \n",
      "    sympy.ntheory.generate.primerange : Generates all primes in a given range\n",
      "    sympy.ntheory.generate.primepi : Return the number of primes less than or equal to n\n",
      "    sympy.ntheory.generate.prime : Return the nth prime\n",
      "    \n",
      "    References\n",
      "    ==========\n",
      "    - https://en.wikipedia.org/wiki/Strong_pseudoprime\n",
      "    - \"Lucas Pseudoprimes\", Baillie and Wagstaff, 1980.\n",
      "      http://mpqs.free.fr/LucasPseudoprimes.pdf\n",
      "    - https://en.wikipedia.org/wiki/Baillie-PSW_primality_test\n",
      "\n"
     ]
    }
   ],
   "source": [
    "help(sympy.isprime)"
   ]
  },
  {
   "cell_type": "markdown",
   "id": "bd1e838b",
   "metadata": {},
   "source": [
    "We can't compete with this more safisticated approach (probable prime test) ^^"
   ]
  },
  {
   "cell_type": "code",
   "execution_count": 18,
   "id": "d232fb8d",
   "metadata": {},
   "outputs": [
    {
     "name": "stdout",
     "output_type": "stream",
     "text": [
      "True\n",
      "Runtime: 20.108134269714355 seconds\n"
     ]
    }
   ],
   "source": [
    "st = time.time()\n",
    "\n",
    "print(prime(790738119649411319))\n",
    "\n",
    "et = time.time()\n",
    "\n",
    "print(\"Runtime:\", et-st, \"seconds\")"
   ]
  },
  {
   "cell_type": "code",
   "execution_count": 19,
   "id": "60129f89",
   "metadata": {},
   "outputs": [
    {
     "name": "stdout",
     "output_type": "stream",
     "text": [
      "True\n",
      "Runtime: 0.0004334449768066406 seconds\n"
     ]
    }
   ],
   "source": [
    "st = time.time()\n",
    "\n",
    "print(sympy.isprime(790738119649411319))\n",
    "\n",
    "et = time.time()\n",
    "\n",
    "print(\"Runtime:\", et-st, \"seconds\")"
   ]
  }
 ],
 "metadata": {
  "kernelspec": {
   "display_name": "Python 3 (ipykernel)",
   "language": "python",
   "name": "python3"
  },
  "language_info": {
   "codemirror_mode": {
    "name": "ipython",
    "version": 3
   },
   "file_extension": ".py",
   "mimetype": "text/x-python",
   "name": "python",
   "nbconvert_exporter": "python",
   "pygments_lexer": "ipython3",
   "version": "3.9.7"
  }
 },
 "nbformat": 4,
 "nbformat_minor": 5
}
